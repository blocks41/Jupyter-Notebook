{
 "cells": [
  {
   "cell_type": "code",
   "execution_count": 3,
   "id": "87841ce3",
   "metadata": {
    "scrolled": true
   },
   "outputs": [],
   "source": [
    "def PHW():\n",
    "    print(\"Hello World\")"
   ]
  },
  {
   "cell_type": "code",
   "execution_count": 5,
   "id": "182bf799",
   "metadata": {},
   "outputs": [
    {
     "name": "stdout",
     "output_type": "stream",
     "text": [
      "Hello World\n"
     ]
    }
   ],
   "source": [
    "PHW()"
   ]
  },
  {
   "cell_type": "markdown",
   "id": "67c39b88",
   "metadata": {},
   "source": [
    "## describe\n",
    "### this function can print \"Hello World\""
   ]
  }
 ],
 "metadata": {
  "kernelspec": {
   "display_name": "Python [conda env:GSJenv]",
   "language": "python",
   "name": "conda-env-GSJenv-py"
  },
  "language_info": {
   "codemirror_mode": {
    "name": "ipython",
    "version": 3
   },
   "file_extension": ".py",
   "mimetype": "text/x-python",
   "name": "python",
   "nbconvert_exporter": "python",
   "pygments_lexer": "ipython3",
   "version": "3.10.0"
  }
 },
 "nbformat": 4,
 "nbformat_minor": 5
}
